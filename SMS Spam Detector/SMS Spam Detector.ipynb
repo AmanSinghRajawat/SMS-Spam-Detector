{
 "cells": [
  {
   "cell_type": "code",
   "execution_count": 1,
   "metadata": {},
   "outputs": [],
   "source": [
    "import nltk"
   ]
  },
  {
   "cell_type": "code",
   "execution_count": 2,
   "metadata": {},
   "outputs": [],
   "source": [
    "#nltk.download_shell()"
   ]
  },
  {
   "cell_type": "code",
   "execution_count": 3,
   "metadata": {},
   "outputs": [],
   "source": [
    "import pandas as pd\n",
    "import numpy as np"
   ]
  },
  {
   "cell_type": "code",
   "execution_count": 4,
   "metadata": {},
   "outputs": [],
   "source": [
    "import seaborn as  sns\n",
    "import matplotlib.pyplot as plt\n",
    "%matplotlib inline"
   ]
  },
  {
   "cell_type": "code",
   "execution_count": 5,
   "metadata": {},
   "outputs": [],
   "source": [
    "messages = [line.rstrip() for line in open('Data\SMSSpamCollection')]"
   ]
  },
  {
   "cell_type": "code",
   "execution_count": 6,
   "metadata": {},
   "outputs": [
    {
     "data": {
      "text/plain": [
       "\"spam\\tFree entry in 2 a wkly comp to win FA Cup final tkts 21st May 2005. Text FA to 87121 to receive entry question(std txt rate)T&C's apply 08452810075over18's\""
      ]
     },
     "execution_count": 6,
     "metadata": {},
     "output_type": "execute_result"
    }
   ],
   "source": [
    "messages[2]"
   ]
  },
  {
   "cell_type": "code",
   "execution_count": 7,
   "metadata": {},
   "outputs": [
    {
     "data": {
      "text/plain": [
       "5574"
      ]
     },
     "execution_count": 7,
     "metadata": {},
     "output_type": "execute_result"
    }
   ],
   "source": [
    "len(messages)"
   ]
  },
  {
   "cell_type": "code",
   "execution_count": 8,
   "metadata": {},
   "outputs": [
    {
     "name": "stdout",
     "output_type": "stream",
     "text": [
      "0 ham\tGo until jurong point, crazy.. Available only in bugis n great world la e buffet... Cine there got amore wat...\n",
      "\n",
      "\n",
      "1 ham\tOk lar... Joking wif u oni...\n",
      "\n",
      "\n",
      "2 spam\tFree entry in 2 a wkly comp to win FA Cup final tkts 21st May 2005. Text FA to 87121 to receive entry question(std txt rate)T&C's apply 08452810075over18's\n",
      "\n",
      "\n",
      "3 ham\tU dun say so early hor... U c already then say...\n",
      "\n",
      "\n",
      "4 ham\tNah I don't think he goes to usf, he lives around here though\n",
      "\n",
      "\n",
      "5 spam\tFreeMsg Hey there darling it's been 3 week's now and no word back! I'd like some fun you up for it still? Tb ok! XxX std chgs to send, Â£1.50 to rcv\n",
      "\n",
      "\n",
      "6 ham\tEven my brother is not like to speak with me. They treat me like aids patent.\n",
      "\n",
      "\n",
      "7 ham\tAs per your request 'Melle Melle (Oru Minnaminunginte Nurungu Vettam)' has been set as your callertune for all Callers. Press *9 to copy your friends Callertune\n",
      "\n",
      "\n",
      "8 spam\tWINNER!! As a valued network customer you have been selected to receivea Â£900 prize reward! To claim call 09061701461. Claim code KL341. Valid 12 hours only.\n",
      "\n",
      "\n",
      "9 spam\tHad your mobile 11 months or more? U R entitled to Update to the latest colour mobiles with camera for Free! Call The Mobile Update Co FREE on 08002986030\n",
      "\n",
      "\n"
     ]
    }
   ],
   "source": [
    "for mess_no, message in enumerate(messages[:10]):\n",
    "    print(mess_no, message)\n",
    "    print('\\n')"
   ]
  },
  {
   "cell_type": "code",
   "execution_count": 9,
   "metadata": {},
   "outputs": [
    {
     "data": {
      "text/plain": [
       "'ham\\tGo until jurong point, crazy.. Available only in bugis n great world la e buffet... Cine there got amore wat...'"
      ]
     },
     "execution_count": 9,
     "metadata": {},
     "output_type": "execute_result"
    }
   ],
   "source": [
    "messages[0]"
   ]
  },
  {
   "cell_type": "code",
   "execution_count": 10,
   "metadata": {},
   "outputs": [],
   "source": [
    "messages = pd.read_csv('smsspamcollection\\SMSSpamCollection', sep='\\t', names=['label','message'])"
   ]
  },
  {
   "cell_type": "code",
   "execution_count": 11,
   "metadata": {},
   "outputs": [
    {
     "data": {
      "text/html": [
       "<div>\n",
       "<style scoped>\n",
       "    .dataframe tbody tr th:only-of-type {\n",
       "        vertical-align: middle;\n",
       "    }\n",
       "\n",
       "    .dataframe tbody tr th {\n",
       "        vertical-align: top;\n",
       "    }\n",
       "\n",
       "    .dataframe thead th {\n",
       "        text-align: right;\n",
       "    }\n",
       "</style>\n",
       "<table border=\"1\" class=\"dataframe\">\n",
       "  <thead>\n",
       "    <tr style=\"text-align: right;\">\n",
       "      <th></th>\n",
       "      <th>label</th>\n",
       "      <th>message</th>\n",
       "    </tr>\n",
       "  </thead>\n",
       "  <tbody>\n",
       "    <tr>\n",
       "      <td>0</td>\n",
       "      <td>ham</td>\n",
       "      <td>Go until jurong point, crazy.. Available only ...</td>\n",
       "    </tr>\n",
       "    <tr>\n",
       "      <td>1</td>\n",
       "      <td>ham</td>\n",
       "      <td>Ok lar... Joking wif u oni...</td>\n",
       "    </tr>\n",
       "    <tr>\n",
       "      <td>2</td>\n",
       "      <td>spam</td>\n",
       "      <td>Free entry in 2 a wkly comp to win FA Cup fina...</td>\n",
       "    </tr>\n",
       "    <tr>\n",
       "      <td>3</td>\n",
       "      <td>ham</td>\n",
       "      <td>U dun say so early hor... U c already then say...</td>\n",
       "    </tr>\n",
       "    <tr>\n",
       "      <td>4</td>\n",
       "      <td>ham</td>\n",
       "      <td>Nah I don't think he goes to usf, he lives aro...</td>\n",
       "    </tr>\n",
       "  </tbody>\n",
       "</table>\n",
       "</div>"
      ],
      "text/plain": [
       "  label                                            message\n",
       "0   ham  Go until jurong point, crazy.. Available only ...\n",
       "1   ham                      Ok lar... Joking wif u oni...\n",
       "2  spam  Free entry in 2 a wkly comp to win FA Cup fina...\n",
       "3   ham  U dun say so early hor... U c already then say...\n",
       "4   ham  Nah I don't think he goes to usf, he lives aro..."
      ]
     },
     "execution_count": 11,
     "metadata": {},
     "output_type": "execute_result"
    }
   ],
   "source": [
    "messages.head()"
   ]
  },
  {
   "cell_type": "code",
   "execution_count": 12,
   "metadata": {},
   "outputs": [
    {
     "data": {
      "text/html": [
       "<div>\n",
       "<style scoped>\n",
       "    .dataframe tbody tr th:only-of-type {\n",
       "        vertical-align: middle;\n",
       "    }\n",
       "\n",
       "    .dataframe tbody tr th {\n",
       "        vertical-align: top;\n",
       "    }\n",
       "\n",
       "    .dataframe thead th {\n",
       "        text-align: right;\n",
       "    }\n",
       "</style>\n",
       "<table border=\"1\" class=\"dataframe\">\n",
       "  <thead>\n",
       "    <tr style=\"text-align: right;\">\n",
       "      <th></th>\n",
       "      <th>label</th>\n",
       "      <th>message</th>\n",
       "    </tr>\n",
       "  </thead>\n",
       "  <tbody>\n",
       "    <tr>\n",
       "      <td>count</td>\n",
       "      <td>5572</td>\n",
       "      <td>5572</td>\n",
       "    </tr>\n",
       "    <tr>\n",
       "      <td>unique</td>\n",
       "      <td>2</td>\n",
       "      <td>5169</td>\n",
       "    </tr>\n",
       "    <tr>\n",
       "      <td>top</td>\n",
       "      <td>ham</td>\n",
       "      <td>Sorry, I'll call later</td>\n",
       "    </tr>\n",
       "    <tr>\n",
       "      <td>freq</td>\n",
       "      <td>4825</td>\n",
       "      <td>30</td>\n",
       "    </tr>\n",
       "  </tbody>\n",
       "</table>\n",
       "</div>"
      ],
      "text/plain": [
       "       label                 message\n",
       "count   5572                    5572\n",
       "unique     2                    5169\n",
       "top      ham  Sorry, I'll call later\n",
       "freq    4825                      30"
      ]
     },
     "execution_count": 12,
     "metadata": {},
     "output_type": "execute_result"
    }
   ],
   "source": [
    "messages.describe()"
   ]
  },
  {
   "cell_type": "code",
   "execution_count": 13,
   "metadata": {},
   "outputs": [
    {
     "data": {
      "text/html": [
       "<div>\n",
       "<style scoped>\n",
       "    .dataframe tbody tr th:only-of-type {\n",
       "        vertical-align: middle;\n",
       "    }\n",
       "\n",
       "    .dataframe tbody tr th {\n",
       "        vertical-align: top;\n",
       "    }\n",
       "\n",
       "    .dataframe thead tr th {\n",
       "        text-align: left;\n",
       "    }\n",
       "\n",
       "    .dataframe thead tr:last-of-type th {\n",
       "        text-align: right;\n",
       "    }\n",
       "</style>\n",
       "<table border=\"1\" class=\"dataframe\">\n",
       "  <thead>\n",
       "    <tr>\n",
       "      <th></th>\n",
       "      <th colspan=\"4\" halign=\"left\">message</th>\n",
       "    </tr>\n",
       "    <tr>\n",
       "      <th></th>\n",
       "      <th>count</th>\n",
       "      <th>unique</th>\n",
       "      <th>top</th>\n",
       "      <th>freq</th>\n",
       "    </tr>\n",
       "    <tr>\n",
       "      <th>label</th>\n",
       "      <th></th>\n",
       "      <th></th>\n",
       "      <th></th>\n",
       "      <th></th>\n",
       "    </tr>\n",
       "  </thead>\n",
       "  <tbody>\n",
       "    <tr>\n",
       "      <td>ham</td>\n",
       "      <td>4825</td>\n",
       "      <td>4516</td>\n",
       "      <td>Sorry, I'll call later</td>\n",
       "      <td>30</td>\n",
       "    </tr>\n",
       "    <tr>\n",
       "      <td>spam</td>\n",
       "      <td>747</td>\n",
       "      <td>653</td>\n",
       "      <td>Please call our customer service representativ...</td>\n",
       "      <td>4</td>\n",
       "    </tr>\n",
       "  </tbody>\n",
       "</table>\n",
       "</div>"
      ],
      "text/plain": [
       "      message                                                               \n",
       "        count unique                                                top freq\n",
       "label                                                                       \n",
       "ham      4825   4516                             Sorry, I'll call later   30\n",
       "spam      747    653  Please call our customer service representativ...    4"
      ]
     },
     "execution_count": 13,
     "metadata": {},
     "output_type": "execute_result"
    }
   ],
   "source": [
    "messages.groupby('label').describe()"
   ]
  },
  {
   "cell_type": "code",
   "execution_count": 14,
   "metadata": {},
   "outputs": [],
   "source": [
    "messages['length'] = messages['message'].apply(len)"
   ]
  },
  {
   "cell_type": "code",
   "execution_count": 15,
   "metadata": {},
   "outputs": [
    {
     "data": {
      "text/html": [
       "<div>\n",
       "<style scoped>\n",
       "    .dataframe tbody tr th:only-of-type {\n",
       "        vertical-align: middle;\n",
       "    }\n",
       "\n",
       "    .dataframe tbody tr th {\n",
       "        vertical-align: top;\n",
       "    }\n",
       "\n",
       "    .dataframe thead th {\n",
       "        text-align: right;\n",
       "    }\n",
       "</style>\n",
       "<table border=\"1\" class=\"dataframe\">\n",
       "  <thead>\n",
       "    <tr style=\"text-align: right;\">\n",
       "      <th></th>\n",
       "      <th>label</th>\n",
       "      <th>message</th>\n",
       "      <th>length</th>\n",
       "    </tr>\n",
       "  </thead>\n",
       "  <tbody>\n",
       "    <tr>\n",
       "      <td>0</td>\n",
       "      <td>ham</td>\n",
       "      <td>Go until jurong point, crazy.. Available only ...</td>\n",
       "      <td>111</td>\n",
       "    </tr>\n",
       "    <tr>\n",
       "      <td>1</td>\n",
       "      <td>ham</td>\n",
       "      <td>Ok lar... Joking wif u oni...</td>\n",
       "      <td>29</td>\n",
       "    </tr>\n",
       "    <tr>\n",
       "      <td>2</td>\n",
       "      <td>spam</td>\n",
       "      <td>Free entry in 2 a wkly comp to win FA Cup fina...</td>\n",
       "      <td>155</td>\n",
       "    </tr>\n",
       "    <tr>\n",
       "      <td>3</td>\n",
       "      <td>ham</td>\n",
       "      <td>U dun say so early hor... U c already then say...</td>\n",
       "      <td>49</td>\n",
       "    </tr>\n",
       "    <tr>\n",
       "      <td>4</td>\n",
       "      <td>ham</td>\n",
       "      <td>Nah I don't think he goes to usf, he lives aro...</td>\n",
       "      <td>61</td>\n",
       "    </tr>\n",
       "  </tbody>\n",
       "</table>\n",
       "</div>"
      ],
      "text/plain": [
       "  label                                            message  length\n",
       "0   ham  Go until jurong point, crazy.. Available only ...     111\n",
       "1   ham                      Ok lar... Joking wif u oni...      29\n",
       "2  spam  Free entry in 2 a wkly comp to win FA Cup fina...     155\n",
       "3   ham  U dun say so early hor... U c already then say...      49\n",
       "4   ham  Nah I don't think he goes to usf, he lives aro...      61"
      ]
     },
     "execution_count": 15,
     "metadata": {},
     "output_type": "execute_result"
    }
   ],
   "source": [
    "messages.head()"
   ]
  },
  {
   "cell_type": "code",
   "execution_count": 16,
   "metadata": {},
   "outputs": [
    {
     "data": {
      "text/plain": [
       "<matplotlib.axes._subplots.AxesSubplot at 0xbfd7ef0>"
      ]
     },
     "execution_count": 16,
     "metadata": {},
     "output_type": "execute_result"
    },
    {
     "data": {
      "image/png": "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\n",
      "text/plain": [
       "<Figure size 432x288 with 1 Axes>"
      ]
     },
     "metadata": {
      "needs_background": "light"
     },
     "output_type": "display_data"
    }
   ],
   "source": [
    "messages['length'].plot.hist(bins=50)"
   ]
  },
  {
   "cell_type": "code",
   "execution_count": 17,
   "metadata": {},
   "outputs": [
    {
     "data": {
      "text/plain": [
       "count    5572.000000\n",
       "mean       80.489950\n",
       "std        59.942907\n",
       "min         2.000000\n",
       "25%        36.000000\n",
       "50%        62.000000\n",
       "75%       122.000000\n",
       "max       910.000000\n",
       "Name: length, dtype: float64"
      ]
     },
     "execution_count": 17,
     "metadata": {},
     "output_type": "execute_result"
    }
   ],
   "source": [
    "messages['length'].describe()"
   ]
  },
  {
   "cell_type": "code",
   "execution_count": 18,
   "metadata": {},
   "outputs": [
    {
     "data": {
      "text/plain": [
       "\"For me the love should start with attraction.i should feel that I need her every time around me.she should be the first thing which comes in my thoughts.I would start the day and end it with her.she should be there every time I dream.love will be then when my every breath has her name.my life should happen around her.my life will be named to her.I would cry for her.will give all my happiness and take all her sorrows.I will be ready to fight with anyone for her.I will be in love when I will be doing the craziest things for her.love will be when I don't have to proove anyone that my girl is the most beautiful lady on the whole planet.I will always be singing praises for her.love will be when I start up making chicken curry and end up makiing sambar.life will be the most beautiful then.will get every morning and thank god for the day because she is with me.I would like to say a lot..will tell later..\""
      ]
     },
     "execution_count": 18,
     "metadata": {},
     "output_type": "execute_result"
    }
   ],
   "source": [
    "messages[messages['length']==910]['message'].iloc[0]"
   ]
  },
  {
   "cell_type": "code",
   "execution_count": 19,
   "metadata": {},
   "outputs": [
    {
     "data": {
      "text/plain": [
       "array([<matplotlib.axes._subplots.AxesSubplot object at 0x000000000BF6AB00>,\n",
       "       <matplotlib.axes._subplots.AxesSubplot object at 0x000000000C079320>],\n",
       "      dtype=object)"
      ]
     },
     "execution_count": 19,
     "metadata": {},
     "output_type": "execute_result"
    },
    {
     "data": {
      "image/png": "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\n",
      "text/plain": [
       "<Figure size 864x288 with 2 Axes>"
      ]
     },
     "metadata": {
      "needs_background": "light"
     },
     "output_type": "display_data"
    }
   ],
   "source": [
    "messages.hist(column='length', by='label', figsize=(12,4))"
   ]
  },
  {
   "cell_type": "code",
   "execution_count": 20,
   "metadata": {},
   "outputs": [],
   "source": [
    "import string"
   ]
  },
  {
   "cell_type": "code",
   "execution_count": 21,
   "metadata": {},
   "outputs": [
    {
     "data": {
      "text/plain": [
       "'!\"#$%&\\'()*+,-./:;<=>?@[\\\\]^_`{|}~'"
      ]
     },
     "execution_count": 21,
     "metadata": {},
     "output_type": "execute_result"
    }
   ],
   "source": [
    "string.punctuation"
   ]
  },
  {
   "cell_type": "code",
   "execution_count": 22,
   "metadata": {},
   "outputs": [],
   "source": [
    "mess = 'Sample Message! Notice: It has Puctuation.'"
   ]
  },
  {
   "cell_type": "code",
   "execution_count": 23,
   "metadata": {},
   "outputs": [],
   "source": [
    "nonpunc = [c for c in mess if c not in string.punctuation]"
   ]
  },
  {
   "cell_type": "code",
   "execution_count": 24,
   "metadata": {},
   "outputs": [
    {
     "data": {
      "text/plain": [
       "['S',\n",
       " 'a',\n",
       " 'm',\n",
       " 'p',\n",
       " 'l',\n",
       " 'e',\n",
       " ' ',\n",
       " 'M',\n",
       " 'e',\n",
       " 's',\n",
       " 's',\n",
       " 'a',\n",
       " 'g',\n",
       " 'e',\n",
       " ' ',\n",
       " 'N',\n",
       " 'o',\n",
       " 't',\n",
       " 'i',\n",
       " 'c',\n",
       " 'e',\n",
       " ' ',\n",
       " 'I',\n",
       " 't',\n",
       " ' ',\n",
       " 'h',\n",
       " 'a',\n",
       " 's',\n",
       " ' ',\n",
       " 'P',\n",
       " 'u',\n",
       " 'c',\n",
       " 't',\n",
       " 'u',\n",
       " 'a',\n",
       " 't',\n",
       " 'i',\n",
       " 'o',\n",
       " 'n']"
      ]
     },
     "execution_count": 24,
     "metadata": {},
     "output_type": "execute_result"
    }
   ],
   "source": [
    "nonpunc"
   ]
  },
  {
   "cell_type": "code",
   "execution_count": 25,
   "metadata": {},
   "outputs": [],
   "source": [
    "from nltk.corpus import stopwords"
   ]
  },
  {
   "cell_type": "code",
   "execution_count": 26,
   "metadata": {},
   "outputs": [
    {
     "data": {
      "text/plain": [
       "['i',\n",
       " 'me',\n",
       " 'my',\n",
       " 'myself',\n",
       " 'we',\n",
       " 'our',\n",
       " 'ours',\n",
       " 'ourselves',\n",
       " 'you',\n",
       " \"you're\",\n",
       " \"you've\",\n",
       " \"you'll\",\n",
       " \"you'd\",\n",
       " 'your',\n",
       " 'yours',\n",
       " 'yourself',\n",
       " 'yourselves',\n",
       " 'he',\n",
       " 'him',\n",
       " 'his',\n",
       " 'himself',\n",
       " 'she',\n",
       " \"she's\",\n",
       " 'her',\n",
       " 'hers',\n",
       " 'herself',\n",
       " 'it',\n",
       " \"it's\",\n",
       " 'its',\n",
       " 'itself',\n",
       " 'they',\n",
       " 'them',\n",
       " 'their',\n",
       " 'theirs',\n",
       " 'themselves',\n",
       " 'what',\n",
       " 'which',\n",
       " 'who',\n",
       " 'whom',\n",
       " 'this',\n",
       " 'that',\n",
       " \"that'll\",\n",
       " 'these',\n",
       " 'those',\n",
       " 'am',\n",
       " 'is',\n",
       " 'are',\n",
       " 'was',\n",
       " 'were',\n",
       " 'be',\n",
       " 'been',\n",
       " 'being',\n",
       " 'have',\n",
       " 'has',\n",
       " 'had',\n",
       " 'having',\n",
       " 'do',\n",
       " 'does',\n",
       " 'did',\n",
       " 'doing',\n",
       " 'a',\n",
       " 'an',\n",
       " 'the',\n",
       " 'and',\n",
       " 'but',\n",
       " 'if',\n",
       " 'or',\n",
       " 'because',\n",
       " 'as',\n",
       " 'until',\n",
       " 'while',\n",
       " 'of',\n",
       " 'at',\n",
       " 'by',\n",
       " 'for',\n",
       " 'with',\n",
       " 'about',\n",
       " 'against',\n",
       " 'between',\n",
       " 'into',\n",
       " 'through',\n",
       " 'during',\n",
       " 'before',\n",
       " 'after',\n",
       " 'above',\n",
       " 'below',\n",
       " 'to',\n",
       " 'from',\n",
       " 'up',\n",
       " 'down',\n",
       " 'in',\n",
       " 'out',\n",
       " 'on',\n",
       " 'off',\n",
       " 'over',\n",
       " 'under',\n",
       " 'again',\n",
       " 'further',\n",
       " 'then',\n",
       " 'once',\n",
       " 'here',\n",
       " 'there',\n",
       " 'when',\n",
       " 'where',\n",
       " 'why',\n",
       " 'how',\n",
       " 'all',\n",
       " 'any',\n",
       " 'both',\n",
       " 'each',\n",
       " 'few',\n",
       " 'more',\n",
       " 'most',\n",
       " 'other',\n",
       " 'some',\n",
       " 'such',\n",
       " 'no',\n",
       " 'nor',\n",
       " 'not',\n",
       " 'only',\n",
       " 'own',\n",
       " 'same',\n",
       " 'so',\n",
       " 'than',\n",
       " 'too',\n",
       " 'very',\n",
       " 's',\n",
       " 't',\n",
       " 'can',\n",
       " 'will',\n",
       " 'just',\n",
       " 'don',\n",
       " \"don't\",\n",
       " 'should',\n",
       " \"should've\",\n",
       " 'now',\n",
       " 'd',\n",
       " 'll',\n",
       " 'm',\n",
       " 'o',\n",
       " 're',\n",
       " 've',\n",
       " 'y',\n",
       " 'ain',\n",
       " 'aren',\n",
       " \"aren't\",\n",
       " 'couldn',\n",
       " \"couldn't\",\n",
       " 'didn',\n",
       " \"didn't\",\n",
       " 'doesn',\n",
       " \"doesn't\",\n",
       " 'hadn',\n",
       " \"hadn't\",\n",
       " 'hasn',\n",
       " \"hasn't\",\n",
       " 'haven',\n",
       " \"haven't\",\n",
       " 'isn',\n",
       " \"isn't\",\n",
       " 'ma',\n",
       " 'mightn',\n",
       " \"mightn't\",\n",
       " 'mustn',\n",
       " \"mustn't\",\n",
       " 'needn',\n",
       " \"needn't\",\n",
       " 'shan',\n",
       " \"shan't\",\n",
       " 'shouldn',\n",
       " \"shouldn't\",\n",
       " 'wasn',\n",
       " \"wasn't\",\n",
       " 'weren',\n",
       " \"weren't\",\n",
       " 'won',\n",
       " \"won't\",\n",
       " 'wouldn',\n",
       " \"wouldn't\"]"
      ]
     },
     "execution_count": 26,
     "metadata": {},
     "output_type": "execute_result"
    }
   ],
   "source": [
    "stopwords.words('english')"
   ]
  },
  {
   "cell_type": "code",
   "execution_count": 28,
   "metadata": {},
   "outputs": [],
   "source": [
    "nonpunc = ''.join(nonpunc)"
   ]
  },
  {
   "cell_type": "code",
   "execution_count": 29,
   "metadata": {},
   "outputs": [
    {
     "data": {
      "text/plain": [
       "'Sample Message Notice It has Puctuation'"
      ]
     },
     "execution_count": 29,
     "metadata": {},
     "output_type": "execute_result"
    }
   ],
   "source": [
    "nonpunc"
   ]
  },
  {
   "cell_type": "code",
   "execution_count": 30,
   "metadata": {},
   "outputs": [],
   "source": [
    "x = ['a','b','c','d']"
   ]
  },
  {
   "cell_type": "code",
   "execution_count": 31,
   "metadata": {},
   "outputs": [
    {
     "data": {
      "text/plain": [
       "'a+++b+++c+++d'"
      ]
     },
     "execution_count": 31,
     "metadata": {},
     "output_type": "execute_result"
    }
   ],
   "source": [
    "'+++'.join(x)"
   ]
  },
  {
   "cell_type": "code",
   "execution_count": 32,
   "metadata": {},
   "outputs": [
    {
     "data": {
      "text/plain": [
       "['Sample', 'Message', 'Notice', 'It', 'has', 'Puctuation']"
      ]
     },
     "execution_count": 32,
     "metadata": {},
     "output_type": "execute_result"
    }
   ],
   "source": [
    "nonpunc.split()"
   ]
  },
  {
   "cell_type": "code",
   "execution_count": 33,
   "metadata": {},
   "outputs": [],
   "source": [
    "# Here we remove the common words.\n",
    "\n",
    "clean_mess = [word for word in nonpunc.split() if word not in stopwords.words('english')]"
   ]
  },
  {
   "cell_type": "code",
   "execution_count": 34,
   "metadata": {},
   "outputs": [
    {
     "data": {
      "text/plain": [
       "['Sample', 'Message', 'Notice', 'It', 'Puctuation']"
      ]
     },
     "execution_count": 34,
     "metadata": {},
     "output_type": "execute_result"
    }
   ],
   "source": [
    "clean_mess"
   ]
  },
  {
   "cell_type": "code",
   "execution_count": 35,
   "metadata": {},
   "outputs": [],
   "source": [
    "def text_process(mess):\n",
    "    \"\"\"\n",
    "    1. remove punc\n",
    "    2. remove stop words\n",
    "    3. return list of clean text words\n",
    "    \"\"\"\n",
    "    \n",
    "    nonpunc = [char for char in mess if char not in string.punctuation]\n",
    "    \n",
    "    nonpunc = ''.join(nonpunc)\n",
    "    \n",
    "    return [word for word in nonpunc.split() if word.lower() not in stopwords.words('english')]\n"
   ]
  },
  {
   "cell_type": "code",
   "execution_count": 36,
   "metadata": {},
   "outputs": [
    {
     "data": {
      "text/html": [
       "<div>\n",
       "<style scoped>\n",
       "    .dataframe tbody tr th:only-of-type {\n",
       "        vertical-align: middle;\n",
       "    }\n",
       "\n",
       "    .dataframe tbody tr th {\n",
       "        vertical-align: top;\n",
       "    }\n",
       "\n",
       "    .dataframe thead th {\n",
       "        text-align: right;\n",
       "    }\n",
       "</style>\n",
       "<table border=\"1\" class=\"dataframe\">\n",
       "  <thead>\n",
       "    <tr style=\"text-align: right;\">\n",
       "      <th></th>\n",
       "      <th>label</th>\n",
       "      <th>message</th>\n",
       "      <th>length</th>\n",
       "    </tr>\n",
       "  </thead>\n",
       "  <tbody>\n",
       "    <tr>\n",
       "      <td>0</td>\n",
       "      <td>ham</td>\n",
       "      <td>Go until jurong point, crazy.. Available only ...</td>\n",
       "      <td>111</td>\n",
       "    </tr>\n",
       "    <tr>\n",
       "      <td>1</td>\n",
       "      <td>ham</td>\n",
       "      <td>Ok lar... Joking wif u oni...</td>\n",
       "      <td>29</td>\n",
       "    </tr>\n",
       "    <tr>\n",
       "      <td>2</td>\n",
       "      <td>spam</td>\n",
       "      <td>Free entry in 2 a wkly comp to win FA Cup fina...</td>\n",
       "      <td>155</td>\n",
       "    </tr>\n",
       "    <tr>\n",
       "      <td>3</td>\n",
       "      <td>ham</td>\n",
       "      <td>U dun say so early hor... U c already then say...</td>\n",
       "      <td>49</td>\n",
       "    </tr>\n",
       "    <tr>\n",
       "      <td>4</td>\n",
       "      <td>ham</td>\n",
       "      <td>Nah I don't think he goes to usf, he lives aro...</td>\n",
       "      <td>61</td>\n",
       "    </tr>\n",
       "  </tbody>\n",
       "</table>\n",
       "</div>"
      ],
      "text/plain": [
       "  label                                            message  length\n",
       "0   ham  Go until jurong point, crazy.. Available only ...     111\n",
       "1   ham                      Ok lar... Joking wif u oni...      29\n",
       "2  spam  Free entry in 2 a wkly comp to win FA Cup fina...     155\n",
       "3   ham  U dun say so early hor... U c already then say...      49\n",
       "4   ham  Nah I don't think he goes to usf, he lives aro...      61"
      ]
     },
     "execution_count": 36,
     "metadata": {},
     "output_type": "execute_result"
    }
   ],
   "source": [
    "messages.head()"
   ]
  },
  {
   "cell_type": "code",
   "execution_count": 37,
   "metadata": {},
   "outputs": [
    {
     "data": {
      "text/plain": [
       "0    [Go, jurong, point, crazy, Available, bugis, n...\n",
       "1                       [Ok, lar, Joking, wif, u, oni]\n",
       "2    [Free, entry, 2, wkly, comp, win, FA, Cup, fin...\n",
       "3        [U, dun, say, early, hor, U, c, already, say]\n",
       "4    [Nah, dont, think, goes, usf, lives, around, t...\n",
       "Name: message, dtype: object"
      ]
     },
     "execution_count": 37,
     "metadata": {},
     "output_type": "execute_result"
    }
   ],
   "source": [
    "messages['message'].head().apply(text_process)"
   ]
  },
  {
   "cell_type": "code",
   "execution_count": 38,
   "metadata": {},
   "outputs": [
    {
     "data": {
      "text/plain": [
       "'Sample Message! Notice: It has Puctuation.'"
      ]
     },
     "execution_count": 38,
     "metadata": {},
     "output_type": "execute_result"
    }
   ],
   "source": [
    "mess"
   ]
  },
  {
   "cell_type": "code",
   "execution_count": 39,
   "metadata": {},
   "outputs": [
    {
     "data": {
      "text/plain": [
       "'Sample Message Notice It has Puctuation'"
      ]
     },
     "execution_count": 39,
     "metadata": {},
     "output_type": "execute_result"
    }
   ],
   "source": [
    "nonpunc"
   ]
  },
  {
   "cell_type": "markdown",
   "metadata": {},
   "source": [
    "# Vectorization"
   ]
  },
  {
   "cell_type": "code",
   "execution_count": 40,
   "metadata": {},
   "outputs": [],
   "source": [
    "from sklearn.feature_extraction.text import CountVectorizer"
   ]
  },
  {
   "cell_type": "code",
   "execution_count": 41,
   "metadata": {},
   "outputs": [],
   "source": [
    "# bow = bag of words"
   ]
  },
  {
   "cell_type": "code",
   "execution_count": 42,
   "metadata": {},
   "outputs": [],
   "source": [
    "bow_tranformer = CountVectorizer(analyzer=text_process)"
   ]
  },
  {
   "cell_type": "code",
   "execution_count": 43,
   "metadata": {},
   "outputs": [
    {
     "data": {
      "text/plain": [
       "CountVectorizer(analyzer=<function text_process at 0x000000000BD95730>,\n",
       "                binary=False, decode_error='strict',\n",
       "                dtype=<class 'numpy.int64'>, encoding='utf-8', input='content',\n",
       "                lowercase=True, max_df=1.0, max_features=None, min_df=1,\n",
       "                ngram_range=(1, 1), preprocessor=None, stop_words=None,\n",
       "                strip_accents=None, token_pattern='(?u)\\\\b\\\\w\\\\w+\\\\b',\n",
       "                tokenizer=None, vocabulary=None)"
      ]
     },
     "execution_count": 43,
     "metadata": {},
     "output_type": "execute_result"
    }
   ],
   "source": [
    "bow_tranformer.fit(messages['message'])"
   ]
  },
  {
   "cell_type": "code",
   "execution_count": 44,
   "metadata": {},
   "outputs": [
    {
     "name": "stdout",
     "output_type": "stream",
     "text": [
      "11425\n"
     ]
    }
   ],
   "source": [
    "print(len(bow_tranformer.vocabulary_))"
   ]
  },
  {
   "cell_type": "code",
   "execution_count": 45,
   "metadata": {},
   "outputs": [],
   "source": [
    "mess4 = messages['message'][3]"
   ]
  },
  {
   "cell_type": "code",
   "execution_count": 46,
   "metadata": {},
   "outputs": [
    {
     "data": {
      "text/plain": [
       "'U dun say so early hor... U c already then say...'"
      ]
     },
     "execution_count": 46,
     "metadata": {},
     "output_type": "execute_result"
    }
   ],
   "source": [
    "mess4"
   ]
  },
  {
   "cell_type": "code",
   "execution_count": 47,
   "metadata": {},
   "outputs": [],
   "source": [
    "bow4 = bow_tranformer.transform([mess4])"
   ]
  },
  {
   "cell_type": "code",
   "execution_count": 48,
   "metadata": {},
   "outputs": [
    {
     "name": "stdout",
     "output_type": "stream",
     "text": [
      "  (0, 4068)\t2\n",
      "  (0, 4629)\t1\n",
      "  (0, 5261)\t1\n",
      "  (0, 6204)\t1\n",
      "  (0, 6222)\t1\n",
      "  (0, 7186)\t1\n",
      "  (0, 9554)\t2\n"
     ]
    }
   ],
   "source": [
    "print(bow4)   # Here we cant directky print bow4."
   ]
  },
  {
   "cell_type": "code",
   "execution_count": 49,
   "metadata": {},
   "outputs": [
    {
     "data": {
      "text/plain": [
       "(1, 11425)"
      ]
     },
     "execution_count": 49,
     "metadata": {},
     "output_type": "execute_result"
    }
   ],
   "source": [
    "bow4.shape"
   ]
  },
  {
   "cell_type": "code",
   "execution_count": 50,
   "metadata": {},
   "outputs": [
    {
     "data": {
      "text/plain": [
       "'say'"
      ]
     },
     "execution_count": 50,
     "metadata": {},
     "output_type": "execute_result"
    }
   ],
   "source": [
    "bow_tranformer.get_feature_names()[9554]"
   ]
  },
  {
   "cell_type": "code",
   "execution_count": 51,
   "metadata": {},
   "outputs": [],
   "source": [
    "messages_bow = bow_tranformer.transform(messages['message'])"
   ]
  },
  {
   "cell_type": "code",
   "execution_count": 52,
   "metadata": {},
   "outputs": [
    {
     "name": "stdout",
     "output_type": "stream",
     "text": [
      "Shape of Sparse Matrix :  (5572, 11425)\n"
     ]
    }
   ],
   "source": [
    "print('Shape of Sparse Matrix : ',messages_bow.shape)"
   ]
  },
  {
   "cell_type": "code",
   "execution_count": 53,
   "metadata": {},
   "outputs": [
    {
     "data": {
      "text/plain": [
       "50548"
      ]
     },
     "execution_count": 53,
     "metadata": {},
     "output_type": "execute_result"
    }
   ],
   "source": [
    "messages_bow.nnz   # NON Zeros accurance"
   ]
  },
  {
   "cell_type": "code",
   "execution_count": 54,
   "metadata": {},
   "outputs": [],
   "source": [
    "sparsity = (100.0 * messages_bow.nnz / (messages_bow.shape[0] * messages_bow.shape[1]))"
   ]
  },
  {
   "cell_type": "code",
   "execution_count": 55,
   "metadata": {},
   "outputs": [
    {
     "name": "stdout",
     "output_type": "stream",
     "text": [
      "sparsity: 0\n"
     ]
    }
   ],
   "source": [
    "print('sparsity: {}'.format(round(sparsity)))"
   ]
  },
  {
   "cell_type": "code",
   "execution_count": 56,
   "metadata": {},
   "outputs": [
    {
     "name": "stdout",
     "output_type": "stream",
     "text": [
      "sparsity : 0.07940295412668218\n"
     ]
    }
   ],
   "source": [
    "print('sparsity : {}'.format(sparsity))"
   ]
  },
  {
   "cell_type": "code",
   "execution_count": 57,
   "metadata": {},
   "outputs": [],
   "source": [
    "from sklearn.feature_extraction.text import TfidfTransformer"
   ]
  },
  {
   "cell_type": "code",
   "execution_count": 58,
   "metadata": {},
   "outputs": [],
   "source": [
    "tfidf_transformer = TfidfTransformer()"
   ]
  },
  {
   "cell_type": "code",
   "execution_count": 59,
   "metadata": {},
   "outputs": [
    {
     "data": {
      "text/plain": [
       "TfidfTransformer(norm='l2', smooth_idf=True, sublinear_tf=False, use_idf=True)"
      ]
     },
     "execution_count": 59,
     "metadata": {},
     "output_type": "execute_result"
    }
   ],
   "source": [
    "tfidf_transformer.fit(messages_bow)"
   ]
  },
  {
   "cell_type": "code",
   "execution_count": 60,
   "metadata": {},
   "outputs": [],
   "source": [
    "tfidf4 = tfidf_transformer.transform(bow4)"
   ]
  },
  {
   "cell_type": "code",
   "execution_count": 61,
   "metadata": {},
   "outputs": [
    {
     "name": "stdout",
     "output_type": "stream",
     "text": [
      "  (0, 9554)\t0.5385626262927564\n",
      "  (0, 7186)\t0.4389365653379857\n",
      "  (0, 6222)\t0.3187216892949149\n",
      "  (0, 6204)\t0.29953799723697416\n",
      "  (0, 5261)\t0.29729957405868723\n",
      "  (0, 4629)\t0.26619801906087187\n",
      "  (0, 4068)\t0.40832589933384067\n"
     ]
    }
   ],
   "source": [
    "print(tfidf4)"
   ]
  },
  {
   "cell_type": "code",
   "execution_count": 62,
   "metadata": {},
   "outputs": [
    {
     "data": {
      "text/plain": [
       "8.527076498901426"
      ]
     },
     "execution_count": 62,
     "metadata": {},
     "output_type": "execute_result"
    }
   ],
   "source": [
    "tfidf_transformer.idf_[bow_tranformer.vocabulary_['university']]"
   ]
  },
  {
   "cell_type": "code",
   "execution_count": 63,
   "metadata": {},
   "outputs": [],
   "source": [
    "messages_tfidf = tfidf_transformer.transform(messages_bow)"
   ]
  },
  {
   "cell_type": "code",
   "execution_count": 64,
   "metadata": {},
   "outputs": [],
   "source": [
    "from sklearn.naive_bayes import MultinomialNB"
   ]
  },
  {
   "cell_type": "code",
   "execution_count": 65,
   "metadata": {},
   "outputs": [],
   "source": [
    "spam_detect_model = MultinomialNB()"
   ]
  },
  {
   "cell_type": "code",
   "execution_count": 66,
   "metadata": {},
   "outputs": [
    {
     "data": {
      "text/plain": [
       "MultinomialNB(alpha=1.0, class_prior=None, fit_prior=True)"
      ]
     },
     "execution_count": 66,
     "metadata": {},
     "output_type": "execute_result"
    }
   ],
   "source": [
    "spam_detect_model.fit(messages_tfidf, messages['label'])"
   ]
  },
  {
   "cell_type": "code",
   "execution_count": 67,
   "metadata": {},
   "outputs": [
    {
     "data": {
      "text/plain": [
       "'ham'"
      ]
     },
     "execution_count": 67,
     "metadata": {},
     "output_type": "execute_result"
    }
   ],
   "source": [
    "spam_detect_model.predict(tfidf4)[0]"
   ]
  },
  {
   "cell_type": "code",
   "execution_count": 68,
   "metadata": {},
   "outputs": [
    {
     "data": {
      "text/plain": [
       "'ham'"
      ]
     },
     "execution_count": 68,
     "metadata": {},
     "output_type": "execute_result"
    }
   ],
   "source": [
    "messages['label'][3]"
   ]
  },
  {
   "cell_type": "code",
   "execution_count": 69,
   "metadata": {},
   "outputs": [],
   "source": [
    "all_predictions = spam_detect_model.predict(messages_tfidf)"
   ]
  },
  {
   "cell_type": "code",
   "execution_count": 70,
   "metadata": {},
   "outputs": [
    {
     "data": {
      "text/plain": [
       "array(['ham', 'ham', 'spam', ..., 'ham', 'ham', 'ham'], dtype='<U4')"
      ]
     },
     "execution_count": 70,
     "metadata": {},
     "output_type": "execute_result"
    }
   ],
   "source": [
    "all_predictions"
   ]
  },
  {
   "cell_type": "code",
   "execution_count": 71,
   "metadata": {},
   "outputs": [],
   "source": [
    "from sklearn.model_selection import train_test_split"
   ]
  },
  {
   "cell_type": "code",
   "execution_count": 72,
   "metadata": {},
   "outputs": [],
   "source": [
    "msg_train, msg_test, label_train, label_test = train_test_split(messages['message'], messages['label'], test_size=0.3)"
   ]
  },
  {
   "cell_type": "code",
   "execution_count": 73,
   "metadata": {},
   "outputs": [],
   "source": [
    "from sklearn.pipeline import Pipeline"
   ]
  },
  {
   "cell_type": "code",
   "execution_count": 74,
   "metadata": {},
   "outputs": [],
   "source": [
    "from sklearn.ensemble import RandomForestClassifier"
   ]
  },
  {
   "cell_type": "code",
   "execution_count": 75,
   "metadata": {},
   "outputs": [],
   "source": [
    "pipeline = Pipeline([\n",
    "    \n",
    "    ('bow', CountVectorizer(analyzer=text_process)),\n",
    "    ('tfidf', TfidfTransformer()),\n",
    "    ('classifier', RandomForestClassifier())\n",
    "])"
   ]
  },
  {
   "cell_type": "code",
   "execution_count": 76,
   "metadata": {},
   "outputs": [
    {
     "name": "stderr",
     "output_type": "stream",
     "text": [
      "D:\\Anaconda\\lib\\site-packages\\sklearn\\ensemble\\forest.py:245: FutureWarning: The default value of n_estimators will change from 10 in version 0.20 to 100 in 0.22.\n",
      "  \"10 in version 0.20 to 100 in 0.22.\", FutureWarning)\n"
     ]
    },
    {
     "data": {
      "text/plain": [
       "Pipeline(memory=None,\n",
       "         steps=[('bow',\n",
       "                 CountVectorizer(analyzer=<function text_process at 0x000000000BD95730>,\n",
       "                                 binary=False, decode_error='strict',\n",
       "                                 dtype=<class 'numpy.int64'>, encoding='utf-8',\n",
       "                                 input='content', lowercase=True, max_df=1.0,\n",
       "                                 max_features=None, min_df=1,\n",
       "                                 ngram_range=(1, 1), preprocessor=None,\n",
       "                                 stop_words=None, strip_accents=None,\n",
       "                                 token_pattern='(?u)\\\\b\\\\w\\\\w...\n",
       "                 RandomForestClassifier(bootstrap=True, class_weight=None,\n",
       "                                        criterion='gini', max_depth=None,\n",
       "                                        max_features='auto',\n",
       "                                        max_leaf_nodes=None,\n",
       "                                        min_impurity_decrease=0.0,\n",
       "                                        min_impurity_split=None,\n",
       "                                        min_samples_leaf=1, min_samples_split=2,\n",
       "                                        min_weight_fraction_leaf=0.0,\n",
       "                                        n_estimators=10, n_jobs=None,\n",
       "                                        oob_score=False, random_state=None,\n",
       "                                        verbose=0, warm_start=False))],\n",
       "         verbose=False)"
      ]
     },
     "execution_count": 76,
     "metadata": {},
     "output_type": "execute_result"
    }
   ],
   "source": [
    "pipeline.fit(msg_train, label_train)"
   ]
  },
  {
   "cell_type": "code",
   "execution_count": 77,
   "metadata": {},
   "outputs": [],
   "source": [
    "predictions = pipeline.predict(msg_test)"
   ]
  },
  {
   "cell_type": "code",
   "execution_count": 78,
   "metadata": {},
   "outputs": [
    {
     "data": {
      "text/plain": [
       "array(['spam', 'ham', 'ham', ..., 'ham', 'ham', 'ham'], dtype=object)"
      ]
     },
     "execution_count": 78,
     "metadata": {},
     "output_type": "execute_result"
    }
   ],
   "source": [
    "predictions"
   ]
  },
  {
   "cell_type": "code",
   "execution_count": 79,
   "metadata": {},
   "outputs": [],
   "source": [
    "from sklearn.metrics import classification_report"
   ]
  },
  {
   "cell_type": "code",
   "execution_count": 80,
   "metadata": {},
   "outputs": [
    {
     "name": "stdout",
     "output_type": "stream",
     "text": [
      "              precision    recall  f1-score   support\n",
      "\n",
      "         ham       0.96      1.00      0.98      1439\n",
      "        spam       0.98      0.75      0.85       233\n",
      "\n",
      "    accuracy                           0.96      1672\n",
      "   macro avg       0.97      0.87      0.91      1672\n",
      "weighted avg       0.96      0.96      0.96      1672\n",
      "\n"
     ]
    }
   ],
   "source": [
    "print(classification_report(label_test, predictions))"
   ]
  },
  {
   "cell_type": "code",
   "execution_count": null,
   "metadata": {},
   "outputs": [],
   "source": []
  }
 ],
 "metadata": {
  "kernelspec": {
   "display_name": "Python 3",
   "language": "python",
   "name": "python3"
  },
  "language_info": {
   "codemirror_mode": {
    "name": "ipython",
    "version": 3
   },
   "file_extension": ".py",
   "mimetype": "text/x-python",
   "name": "python",
   "nbconvert_exporter": "python",
   "pygments_lexer": "ipython3",
   "version": "3.7.3"
  }
 },
 "nbformat": 4,
 "nbformat_minor": 2
}
